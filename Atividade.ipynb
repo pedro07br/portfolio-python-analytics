{
  "nbformat": 4,
  "nbformat_minor": 0,
  "metadata": {
    "colab": {
      "provenance": [],
      "authorship_tag": "ABX9TyOHbLlZkM1ROLkJGOV9XHR9",
      "include_colab_link": true
    },
    "kernelspec": {
      "name": "python3",
      "display_name": "Python 3"
    },
    "language_info": {
      "name": "python"
    }
  },
  "cells": [
    {
      "cell_type": "markdown",
      "metadata": {
        "id": "view-in-github",
        "colab_type": "text"
      },
      "source": [
        "<a href=\"https://colab.research.google.com/github/pedro07br/portfolio-python-analytics/blob/main/Atividade.ipynb\" target=\"_parent\"><img src=\"https://colab.research.google.com/assets/colab-badge.svg\" alt=\"Open In Colab\"/></a>"
      ]
    },
    {
      "cell_type": "code",
      "execution_count": 1,
      "metadata": {
        "colab": {
          "base_uri": "https://localhost:8080/"
        },
        "id": "etEX6y77OSHD",
        "outputId": "3f0cdd18-811a-4e9b-f498-593f17b3dbbd"
      },
      "outputs": [
        {
          "output_type": "stream",
          "name": "stdout",
          "text": [
            "Digite um número inteiro: 12\n",
            "Digite um número inteiro: 12\n",
            "Digite um número decimal: 12\n",
            "A soma total é: 36.0\n",
            "A divisão do maior número inteiro pelo decimal é: 1.0\n"
          ]
        }
      ],
      "source": [
        "a = input(\"Digite um número inteiro: \")\n",
        "b = input(\"Digite um número inteiro: \")\n",
        "c = input(\"Digite um número decimal: \")\n",
        "\n",
        "soma = int(a) + int(b) + float(c)\n",
        "\n",
        "if int(a) > int(b):\n",
        "    somaDecimal = int(a) / float(c)\n",
        "else:\n",
        "    somaDecimal = int(b) / float(c)\n",
        "\n",
        "somaDecimal = round(somaDecimal, 2)\n",
        "\n",
        "print(\"A soma total é:\", soma)\n",
        "print(\"A divisão do maior número inteiro pelo decimal é:\", somaDecimal)\n"
      ]
    },
    {
      "cell_type": "code",
      "source": [
        "import numpy as np\n",
        "\n",
        "d1 = np.array([2, 4, 6, 8, 10])\n",
        "d2 = np.array([1, 3, 5, 7, 9])\n",
        "\n",
        "print(\"d1 - shape:\", d1.shape)\n",
        "print(\"d1 - dimensões:\", d1.ndim)\n",
        "print(\"d1 - tipo de dados:\", d1.dtype)\n",
        "\n",
        "print(\"d2 - shape:\", d1.shape)\n",
        "print(\"d2 - dimensões:\", d1.ndim)\n",
        "print(\"d2 - tipo de dados:\", d1.dtype)\n",
        "\n",
        "soma = d1 + d2\n",
        "produto = d1 * d2\n",
        "media_soma = np.mean(soma)\n",
        "\n",
        "print(\"Soma elemento a elemento:\", soma)\n",
        "print(\"Produto elemento a elemento:\", produto)\n",
        "print(\"Média da soma:\", media_soma)\n",
        "\n",
        "matriz = np.arange(1, 10).reshape(3, 3)\n",
        "print(\"Matriz 3x3:\\n\", matriz)\n",
        "\n",
        "soma_linhas = np.sum(matriz, axis=1)\n",
        "soma_colunas = np.sum(matriz, axis=0)\n",
        "transposta = matriz.T\n",
        "\n",
        "print(\"Soma por linha:\", soma_linhas)\n",
        "print(\"Soma por coluna:\", soma_colunas)\n",
        "print(\"Matriz transposta:\\n\", transposta)\n"
      ],
      "metadata": {
        "colab": {
          "base_uri": "https://localhost:8080/"
        },
        "id": "ALlRnkaaUexw",
        "outputId": "c20b7d4c-cc1e-4795-e2bc-f5ed43afbd5f"
      },
      "execution_count": null,
      "outputs": [
        {
          "output_type": "stream",
          "name": "stdout",
          "text": [
            "d1 - shape: (5,)\n",
            "d1 - dimensões: 1\n",
            "d1 - tipo de dados: int64\n",
            "d2 - shape: (5,)\n",
            "d2 - dimensões: 1\n",
            "d2 - tipo de dados: int64\n",
            "Soma elemento a elemento: [ 3  7 11 15 19]\n",
            "Produto elemento a elemento: [ 2 12 30 56 90]\n",
            "Média da soma: 11.0\n",
            "Matriz 3x3:\n",
            " [[1 2 3]\n",
            " [4 5 6]\n",
            " [7 8 9]]\n",
            "Soma por linha: [ 6 15 24]\n",
            "Soma por coluna: [12 15 18]\n",
            "Matriz transposta:\n",
            " [[1 4 7]\n",
            " [2 5 8]\n",
            " [3 6 9]]\n"
          ]
        }
      ]
    },
    {
      "cell_type": "code",
      "source": [
        "import numpy as np\n",
        "\n",
        "x = np.linspace(0, 1, 20)\n",
        "\n",
        "y = 3*x**2 - 2*x + 1\n",
        "\n",
        "print(\"x:\", x)\n",
        "print(\"y:\", y)\n",
        "\n",
        "y_norm = (y - np.min(y)) / (np.max(y) - np.min(y))\n",
        "\n",
        "print(\"y_norm:\", y_norm)\n",
        "\n",
        "mask = y_norm > 0.5\n",
        "print(\"Máscara booleana:\", mask)\n",
        "\n",
        "subset = y_norm[mask]\n",
        "print(\"Tamanho do subconjunto:\", subset.size)\n",
        "print(\"Três primeiros valores selecionados:\", subset[:3])"
      ],
      "metadata": {
        "colab": {
          "base_uri": "https://localhost:8080/"
        },
        "id": "y1kl7CKbbjtS",
        "outputId": "55578549-d954-4ee7-e4df-72845e4058d5"
      },
      "execution_count": 20,
      "outputs": [
        {
          "output_type": "stream",
          "name": "stdout",
          "text": [
            "x: [0.         0.05263158 0.10526316 0.15789474 0.21052632 0.26315789\n",
            " 0.31578947 0.36842105 0.42105263 0.47368421 0.52631579 0.57894737\n",
            " 0.63157895 0.68421053 0.73684211 0.78947368 0.84210526 0.89473684\n",
            " 0.94736842 1.        ]\n",
            "y: [1.         0.90304709 0.82271468 0.75900277 0.71191136 0.68144044\n",
            " 0.66759003 0.67036011 0.68975069 0.72576177 0.77839335 0.84764543\n",
            " 0.93351801 1.03601108 1.15512465 1.29085873 1.4432133  1.61218837\n",
            " 1.79778393 2.        ]\n",
            "y_norm: [0.24948025 0.17671518 0.11642412 0.06860707 0.03326403 0.01039501\n",
            " 0.         0.002079   0.01663202 0.04365904 0.08316008 0.13513514\n",
            " 0.1995842  0.27650728 0.36590437 0.46777547 0.58212058 0.70893971\n",
            " 0.84823285 1.        ]\n",
            "Máscara booleana: [False False False False False False False False False False False False\n",
            " False False False False  True  True  True  True]\n",
            "Tamanho do subconjunto: 4\n",
            "Três primeiros valores selecionados: [0.58212058 0.70893971 0.84823285]\n"
          ]
        }
      ]
    },
    {
      "cell_type": "code",
      "source": [
        "import pandas as pd\n",
        "\n",
        "data = {\"Nome\": [\"Anay\", \"Pedro\", \"João\", \"Matheus\"],\n",
        "        \"Prova01\": [8.5, 7.0, 9.2, 9.7],\n",
        "        \"Prova02\": [3.1, 6.0, 7.2, 9.8],\n",
        "        \"faltas\":  [4, 2, 3, 1] }\n",
        "\n",
        "df = pd.DataFrame(data)\n",
        "\n",
        "print(df,\"\\n\")\n",
        "print(df.head(2),\"\\n\")\n",
        "print(df.info(),\"\\n\")\n",
        "print(df.describe(),\"\\n\")\n",
        "\n",
        "\n",
        "df[\"Media\"] = df[[\"Prova01\", \"Prova02\"]].mean(axis=1)\n",
        "print(df,\"\\n\")\n",
        "\n",
        "df[\"Aprovado\"] = df[\"Media\"] >= 6\n",
        "print(df,\"\\n\")\n",
        "\n",
        "df[\"Aprovada por presença\"] = df[\"faltas\"] <= 3\n",
        "print(df,\"\\n\")\n",
        "\n",
        "aprovados = df[df[\"Aprovado\"] & df[\"Aprovada por presença\"]]\n",
        "\n",
        "aprovados = aprovados.sort_values(by=\"Media\", ascending=False)\n",
        "\n",
        "resultado = aprovados[[\"Nome\", \"Media\"]]\n",
        "\n",
        "print(resultado)\n"
      ],
      "metadata": {
        "id": "9O27gxi7Ys9Y",
        "colab": {
          "base_uri": "https://localhost:8080/"
        },
        "outputId": "4f26c1ab-a2db-4e7a-95f2-1ec7484a8228"
      },
      "execution_count": 50,
      "outputs": [
        {
          "output_type": "stream",
          "name": "stdout",
          "text": [
            "      Nome  Prova01  Prova02  faltas\n",
            "0     Anay      8.5      3.1       4\n",
            "1    Pedro      7.0      6.0       2\n",
            "2     João      9.2      7.2       3\n",
            "3  Matheus      9.7      9.8       1 \n",
            "\n",
            "    Nome  Prova01  Prova02  faltas\n",
            "0   Anay      8.5      3.1       4\n",
            "1  Pedro      7.0      6.0       2 \n",
            "\n",
            "<class 'pandas.core.frame.DataFrame'>\n",
            "RangeIndex: 4 entries, 0 to 3\n",
            "Data columns (total 4 columns):\n",
            " #   Column   Non-Null Count  Dtype  \n",
            "---  ------   --------------  -----  \n",
            " 0   Nome     4 non-null      object \n",
            " 1   Prova01  4 non-null      float64\n",
            " 2   Prova02  4 non-null      float64\n",
            " 3   faltas   4 non-null      int64  \n",
            "dtypes: float64(2), int64(1), object(1)\n",
            "memory usage: 260.0+ bytes\n",
            "None \n",
            "\n",
            "        Prova01   Prova02    faltas\n",
            "count  4.000000  4.000000  4.000000\n",
            "mean   8.600000  6.525000  2.500000\n",
            "std    1.174734  2.780138  1.290994\n",
            "min    7.000000  3.100000  1.000000\n",
            "25%    8.125000  5.275000  1.750000\n",
            "50%    8.850000  6.600000  2.500000\n",
            "75%    9.325000  7.850000  3.250000\n",
            "max    9.700000  9.800000  4.000000 \n",
            "\n",
            "      Nome  Prova01  Prova02  faltas  Media\n",
            "0     Anay      8.5      3.1       4   5.80\n",
            "1    Pedro      7.0      6.0       2   6.50\n",
            "2     João      9.2      7.2       3   8.20\n",
            "3  Matheus      9.7      9.8       1   9.75 \n",
            "\n",
            "      Nome  Prova01  Prova02  faltas  Media  Aprovado\n",
            "0     Anay      8.5      3.1       4   5.80     False\n",
            "1    Pedro      7.0      6.0       2   6.50      True\n",
            "2     João      9.2      7.2       3   8.20      True\n",
            "3  Matheus      9.7      9.8       1   9.75      True \n",
            "\n",
            "      Nome  Prova01  Prova02  faltas  Media  Aprovado  Aprovada por presença\n",
            "0     Anay      8.5      3.1       4   5.80     False                  False\n",
            "1    Pedro      7.0      6.0       2   6.50      True                   True\n",
            "2     João      9.2      7.2       3   8.20      True                   True\n",
            "3  Matheus      9.7      9.8       1   9.75      True                   True \n",
            "\n",
            "      Nome  Media\n",
            "3  Matheus   9.75\n",
            "2     João   8.20\n",
            "1    Pedro   6.50\n"
          ]
        }
      ]
    },
    {
      "cell_type": "code",
      "source": [
        "import pandas as pd\n",
        "import numpy as np\n",
        "\n",
        "# Simulando dados de vendas\n",
        "data = {\n",
        "    \"Vendedor\": [\n",
        "        \"Anny\", \"Pedro\", \"João\", \"Maria\", \"Lucas\",\n",
        "        \"Anny\", \"Pedro\", \"João\", \"Maria\", \"Lucas\",\n",
        "        \"Anny\", \"Pedro\", \"João\", \"Maria\", \"Lucas\",\n",
        "        \"Anny\", \"Pedro\", \"João\", \"Maria\", \"Lucas\"\n",
        "    ],\n",
        "    \"Região\": [\n",
        "        \"Norte\", \"Sul\", \"Leste\", \"Oeste\", \"Norte\",\n",
        "        \"Sul\", \"Leste\", \"Oeste\", \"Norte\", \"Sul\",\n",
        "        \"Leste\", \"Oeste\", \"Norte\", \"Sul\", \"Leste\",\n",
        "        \"Oeste\", \"Norte\", \"Sul\", \"Leste\", \"Oeste\"\n",
        "    ],\n",
        "    \"Valor\": np.random.uniform(100, 1000, 20),\n",
        "    \"Data\": pd.date_range(start=\"2025-08-01\", periods=20).strftime(\"%Y-%m-%d\")\n",
        "}\n",
        "\n",
        "df = pd.DataFrame(data)\n",
        "\n",
        "print(\"=== DataFrame de Vendas ===\")\n",
        "print(df, \"\\n\")\n",
        "\n",
        "regiao_totais = df.groupby(\"Região\")[\"Valor\"].sum()\n",
        "regiao_medias = df.groupby(\"Região\")[\"Valor\"].mean()\n",
        "\n",
        "regiao_top = regiao_totais.idxmax()\n",
        "total_top_regiao = regiao_totais.max()\n",
        "\n",
        "vendedor_totais = df.groupby(\"Vendedor\")[\"Valor\"].sum()\n",
        "vendedor_top = vendedor_totais.idxmax()\n",
        "valor_top_vendedor = vendedor_totais.max()\n",
        "\n",
        "top3_vendedores = vendedor_totais.sort_values(ascending=False).head(3)\n",
        "\n",
        "print(\"=== Total vendido por Região ===\")\n",
        "print(regiao_totais, \"\\n\")\n",
        "\n",
        "print(\"=== Média por venda por Região ===\")\n",
        "print(regiao_medias, \"\\n\")\n",
        "\n",
        "print(\"=== Top 3 Vendedores ===\")\n",
        "print(top3_vendedores, \"\\n\")\n",
        "\n",
        "print(f\"=== Melhor vendedor do período: {vendedor_top} com faturamento de {valor_top_vendedor:.2f} ===\")\n",
        "print(f\"=== Região com maior total vendido: {regiao_top} com total de {total_top_regiao:.2f} ===\")\n"
      ],
      "metadata": {
        "colab": {
          "base_uri": "https://localhost:8080/"
        },
        "id": "lAyQrITVsXgh",
        "outputId": "27cd5106-37f3-4369-b8c4-10784ea9c9a9"
      },
      "execution_count": 52,
      "outputs": [
        {
          "output_type": "stream",
          "name": "stdout",
          "text": [
            "=== DataFrame de Vendas ===\n",
            "   Vendedor Região       Valor        Data\n",
            "0      Anny  Norte  764.961999  2025-08-01\n",
            "1     Pedro    Sul  519.063704  2025-08-02\n",
            "2      João  Leste  680.620698  2025-08-03\n",
            "3     Maria  Oeste  805.045021  2025-08-04\n",
            "4     Lucas  Norte  207.506466  2025-08-05\n",
            "5      Anny    Sul  316.585147  2025-08-06\n",
            "6     Pedro  Leste  698.010644  2025-08-07\n",
            "7      João  Oeste  404.282622  2025-08-08\n",
            "8     Maria  Norte  261.275027  2025-08-09\n",
            "9     Lucas    Sul  164.420861  2025-08-10\n",
            "10     Anny  Leste  667.648100  2025-08-11\n",
            "11    Pedro  Oeste  870.164557  2025-08-12\n",
            "12     João  Norte  993.681288  2025-08-13\n",
            "13    Maria    Sul  296.695749  2025-08-14\n",
            "14    Lucas  Leste  443.634986  2025-08-15\n",
            "15     Anny  Oeste  981.940762  2025-08-16\n",
            "16    Pedro  Norte  602.315940  2025-08-17\n",
            "17     João    Sul  152.038131  2025-08-18\n",
            "18    Maria  Leste  650.274203  2025-08-19\n",
            "19    Lucas  Oeste  126.682975  2025-08-20 \n",
            "\n",
            "=== Total vendido por Região ===\n",
            "Região\n",
            "Leste    3140.188631\n",
            "Norte    2829.740720\n",
            "Oeste    3188.115936\n",
            "Sul      1448.803593\n",
            "Name: Valor, dtype: float64 \n",
            "\n",
            "=== Média por venda por Região ===\n",
            "Região\n",
            "Leste    628.037726\n",
            "Norte    565.948144\n",
            "Oeste    637.623187\n",
            "Sul      289.760719\n",
            "Name: Valor, dtype: float64 \n",
            "\n",
            "=== Top 3 Vendedores ===\n",
            "Vendedor\n",
            "Anny     2731.136009\n",
            "Pedro    2689.554844\n",
            "João     2230.622738\n",
            "Name: Valor, dtype: float64 \n",
            "\n",
            "=== Melhor vendedor do período: Anny com faturamento de 2731.14 ===\n",
            "=== Região com maior total vendido: Oeste com total de 3188.12 ===\n"
          ]
        }
      ]
    }
  ]
}